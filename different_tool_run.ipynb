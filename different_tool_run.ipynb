{
 "cells": [
  {
   "cell_type": "markdown",
   "id": "8d6b8988-667a-4d78-8bba-e4fb133444c2",
   "metadata": {},
   "source": [
    "# Test execution involving different tools"
   ]
  },
  {
   "cell_type": "code",
   "execution_count": 1,
   "id": "d00b9c6e-1477-4a5b-88c2-473c2dcbbf9e",
   "metadata": {},
   "outputs": [
    {
     "name": "stdout",
     "output_type": "stream",
     "text": [
      "\n",
      "\u001b[1m\u001b[38;5;232m\u001b[48;5;43m N E X T F L O W \u001b[0;2m  ~  \u001b[mversion 25.04.6\u001b[m\n",
      "\u001b[K\n",
      "Launching\u001b[35m `main.nf` \u001b[0;2m[\u001b[0;1;36mnostalgic_ekeblad\u001b[0;2m] DSL2 - \u001b[36mrevision: \u001b[0;36m5d709b8730\u001b[m\n",
      "\u001b[K\n",
      "\u001b[2mexecutor >  local (1)\u001b[m\u001b[K\n",
      "\u001b[2m[\u001b[0;34m45/5ad133\u001b[0;2m] \u001b[0;2m\u001b[mProcessRepo\u001b[33;2m (\u001b[0;33m1\u001b[2m)\u001b[m    \u001b[2m |\u001b[m 0 of 1\u001b[K\n",
      "\u001b[2m[\u001b[0;34m-        \u001b[0;2m] \u001b[0;2m\u001b[mRunAlmanack         -\u001b[K\n",
      "\u001b[2m[\u001b[0;34m-        \u001b[0;2m] \u001b[0;2m\u001b[mTestExecutor        -\u001b[K\n",
      "\u001b[2m[\u001b[0;34m-        \u001b[0;2m] \u001b[0;2m\u001b[mAnalyzeJOSSCriteria -\u001b[K\n",
      "\u001b[2m[\u001b[0;34m-        \u001b[0;2m] \u001b[0;2m\u001b[mAIAnalysis          -\u001b[K\n",
      "\u001b[7A\n",
      "\u001b[2mexecutor >  local (1)\u001b[m\u001b[K\n",
      "\u001b[2m[\u001b[0;34m45/5ad133\u001b[0;2m] \u001b[0;2m\u001b[mProcessRepo\u001b[33;2m (\u001b[0;33m1\u001b[2m)\u001b[m    \u001b[2m |\u001b[m 0 of 1\u001b[K\n",
      "\u001b[2m[\u001b[0;34m-        \u001b[0;2m] \u001b[0;2m\u001b[mRunAlmanack         -\u001b[K\n",
      "\u001b[2m[\u001b[0;34m-        \u001b[0;2m] \u001b[0;2m\u001b[mTestExecutor        -\u001b[K\n",
      "\u001b[2m[\u001b[0;34m-        \u001b[0;2m] \u001b[0;2m\u001b[mAnalyzeJOSSCriteria -\u001b[K\n",
      "\u001b[2m[\u001b[0;34m-        \u001b[0;2m] \u001b[0;2m\u001b[mAIAnalysis          -\u001b[K\n",
      "\u001b[7A\n",
      "\u001b[2mexecutor >  local (1)\u001b[m\u001b[K\n",
      "\u001b[2m[\u001b[0;34m45/5ad133\u001b[0;2m] \u001b[0;2m\u001b[mProcessRepo\u001b[33;2m (\u001b[0;33m1\u001b[2m)\u001b[m    \u001b[2m |\u001b[m 1 of 1\u001b[32m ✔\u001b[m\u001b[K\n",
      "\u001b[2m[\u001b[0;34m-        \u001b[0;2m] \u001b[0;2m\u001b[mRunAlmanack        \u001b[2m |\u001b[m 0 of 1\u001b[K\n",
      "\u001b[2m[\u001b[0;34m-        \u001b[0;2m] \u001b[0;2m\u001b[mTestExecutor       \u001b[2m |\u001b[m 0 of 1\u001b[K\n",
      "\u001b[2m[\u001b[0;34m-        \u001b[0;2m] \u001b[0;2m\u001b[mAnalyzeJOSSCriteria -\u001b[K\n",
      "\u001b[2m[\u001b[0;34m-        \u001b[0;2m] \u001b[0;2m\u001b[mAIAnalysis          -\u001b[K\n",
      "\u001b[7A\n",
      "\u001b[2mexecutor >  local (3)\u001b[m\u001b[K\n",
      "\u001b[2m[\u001b[0;34m45/5ad133\u001b[0;2m] \u001b[0;2m\u001b[mProcessRepo\u001b[33;2m (\u001b[0;33m1\u001b[2m)\u001b[m    \u001b[2m |\u001b[m 1 of 1\u001b[32m ✔\u001b[m\u001b[K\n",
      "\u001b[2m[\u001b[0;34m90/a2c3b3\u001b[0;2m] \u001b[0;2m\u001b[mRunAlmanack\u001b[33;2m (\u001b[0;33m1\u001b[2m)\u001b[m    \u001b[2m |\u001b[m 0 of 1\u001b[K\n",
      "\u001b[2m[\u001b[0;34mf7/214123\u001b[0;2m] \u001b[0;2m\u001b[mTestExecutor\u001b[33;2m (\u001b[0;33m1\u001b[2m)\u001b[m   \u001b[2m |\u001b[m 0 of 1\u001b[K\n",
      "\u001b[2m[\u001b[0;34m-        \u001b[0;2m] \u001b[0;2m\u001b[mAnalyzeJOSSCriteria -\u001b[K\n",
      "\u001b[2m[\u001b[0;34m-        \u001b[0;2m] \u001b[0;2m\u001b[mAIAnalysis          -\u001b[K\n",
      "\u001b[7A\n",
      "\u001b[2mexecutor >  local (3)\u001b[m\u001b[K\n",
      "\u001b[2m[\u001b[0;34m45/5ad133\u001b[0;2m] \u001b[0;2m\u001b[mProcessRepo\u001b[33;2m (\u001b[0;33m1\u001b[2m)\u001b[m    \u001b[2m |\u001b[m 1 of 1\u001b[32m ✔\u001b[m\u001b[K\n",
      "\u001b[2m[\u001b[0;34m90/a2c3b3\u001b[0;2m] \u001b[0;2m\u001b[mRunAlmanack\u001b[33;2m (\u001b[0;33m1\u001b[2m)\u001b[m    \u001b[2m |\u001b[m 0 of 1\u001b[K\n",
      "\u001b[2m[\u001b[0;34mf7/214123\u001b[0;2m] \u001b[0;2m\u001b[mTestExecutor\u001b[33;2m (\u001b[0;33m1\u001b[2m)\u001b[m   \u001b[2m |\u001b[m 1 of 1\u001b[32m ✔\u001b[m\u001b[K\n",
      "\u001b[2m[\u001b[0;34m-        \u001b[0;2m] \u001b[0;2m\u001b[mAnalyzeJOSSCriteria -\u001b[K\n",
      "\u001b[2m[\u001b[0;34m-        \u001b[0;2m] \u001b[0;2m\u001b[mAIAnalysis          -\u001b[K\n",
      "\u001b[7A\n",
      "\u001b[2mexecutor >  local (4)\u001b[m\u001b[K\n",
      "\u001b[2m[\u001b[0;34m45/5ad133\u001b[0;2m] \u001b[0;2m\u001b[mProcessRepo\u001b[33;2m (\u001b[0;33m1\u001b[2m)\u001b[m               \u001b[2m |\u001b[m 1 of 1\u001b[32m ✔\u001b[m\u001b[K\n",
      "\u001b[2m[\u001b[0;34m90/a2c3b3\u001b[0;2m] \u001b[0;2m\u001b[mRunAlmanack\u001b[33;2m (\u001b[0;33m1\u001b[2m)\u001b[m               \u001b[2m |\u001b[m 1 of 1\u001b[32m ✔\u001b[m\u001b[K\n",
      "\u001b[2m[\u001b[0;34mf7/214123\u001b[0;2m] \u001b[0;2m\u001b[mTestExecutor\u001b[33;2m (\u001b[0;33m1\u001b[2m)\u001b[m              \u001b[2m |\u001b[m 1 of 1\u001b[32m ✔\u001b[m\u001b[K\n",
      "\u001b[2m[\u001b[0;34m7e/bf9800\u001b[0;2m] \u001b[0;2m\u001b[mAnalyzeJOSSCriteria\u001b[33;2m (\u001b[0;33mcosmicqc\u001b[2m)\u001b[m\u001b[2m |\u001b[m 0 of 1\u001b[K\n",
      "\u001b[2m[\u001b[0;34m-        \u001b[0;2m] \u001b[0;2m\u001b[mAIAnalysis                     -\u001b[K\n",
      "\u001b[7A\n",
      "\u001b[2mexecutor >  local (5)\u001b[m\u001b[K\n",
      "\u001b[2m[\u001b[0;34m45/5ad133\u001b[0;2m] \u001b[0;2m\u001b[mProcessRepo\u001b[33;2m (\u001b[0;33m1\u001b[2m)\u001b[m               \u001b[2m |\u001b[m 1 of 1\u001b[32m ✔\u001b[m\u001b[K\n",
      "\u001b[2m[\u001b[0;34m90/a2c3b3\u001b[0;2m] \u001b[0;2m\u001b[mRunAlmanack\u001b[33;2m (\u001b[0;33m1\u001b[2m)\u001b[m               \u001b[2m |\u001b[m 1 of 1\u001b[32m ✔\u001b[m\u001b[K\n",
      "\u001b[2m[\u001b[0;34mf7/214123\u001b[0;2m] \u001b[0;2m\u001b[mTestExecutor\u001b[33;2m (\u001b[0;33m1\u001b[2m)\u001b[m              \u001b[2m |\u001b[m 1 of 1\u001b[32m ✔\u001b[m\u001b[K\n",
      "\u001b[2m[\u001b[0;34m7e/bf9800\u001b[0;2m] \u001b[0;2m\u001b[mAnalyzeJOSSCriteria\u001b[33;2m (\u001b[0;33mcosmicqc\u001b[2m)\u001b[m\u001b[2m |\u001b[m 1 of 1\u001b[32m ✔\u001b[m\u001b[K\n",
      "\u001b[2m[\u001b[0;34mcf/75201c\u001b[0;2m] \u001b[0;2m\u001b[mAIAnalysis\u001b[33;2m (\u001b[0;33m1\u001b[2m)\u001b[m                \u001b[2m |\u001b[m 0 of 1\u001b[K\n",
      "\u001b[7A\n",
      "\u001b[2mexecutor >  local (5)\u001b[m\u001b[K\n",
      "\u001b[2m[\u001b[0;34m45/5ad133\u001b[0;2m] \u001b[0;2m\u001b[mProcessRepo\u001b[33;2m (\u001b[0;33m1\u001b[2m)\u001b[m               \u001b[2m |\u001b[m 1 of 1\u001b[32m ✔\u001b[m\u001b[K\n",
      "\u001b[2m[\u001b[0;34m90/a2c3b3\u001b[0;2m] \u001b[0;2m\u001b[mRunAlmanack\u001b[33;2m (\u001b[0;33m1\u001b[2m)\u001b[m               \u001b[2m |\u001b[m 1 of 1\u001b[32m ✔\u001b[m\u001b[K\n",
      "\u001b[2m[\u001b[0;34mf7/214123\u001b[0;2m] \u001b[0;2m\u001b[mTestExecutor\u001b[33;2m (\u001b[0;33m1\u001b[2m)\u001b[m              \u001b[2m |\u001b[m 1 of 1\u001b[32m ✔\u001b[m\u001b[K\n",
      "\u001b[2m[\u001b[0;34m7e/bf9800\u001b[0;2m] \u001b[0;2m\u001b[mAnalyzeJOSSCriteria\u001b[33;2m (\u001b[0;33mcosmicqc\u001b[2m)\u001b[m\u001b[2m |\u001b[m 1 of 1\u001b[32m ✔\u001b[m\u001b[K\n",
      "\u001b[2m[\u001b[0;34mcf/75201c\u001b[0;2m] \u001b[0;2m\u001b[mAIAnalysis\u001b[33;2m (\u001b[0;33m1\u001b[2m)\u001b[m                \u001b[2m |\u001b[m 1 of 1, ignored: 1\u001b[32m ✔\u001b[m\u001b[K\n",
      "\u001b[33m[cf/75201c] NOTE: Missing output file(s) `cosmicqc_ai_analysis.html` expected by process `AIAnalysis (1)` -- Error is ignored\u001b[39m\u001b[K\n",
      "\u001b[8A\n",
      "\u001b[2mexecutor >  local (5)\u001b[m\u001b[K\n",
      "\u001b[2m[\u001b[0;34m45/5ad133\u001b[0;2m] \u001b[0;2m\u001b[mProcessRepo\u001b[33;2m (\u001b[0;33m1\u001b[2m)\u001b[m               \u001b[2m |\u001b[m 1 of 1\u001b[32m ✔\u001b[m\u001b[K\n",
      "\u001b[2m[\u001b[0;34m90/a2c3b3\u001b[0;2m] \u001b[0;2m\u001b[mRunAlmanack\u001b[33;2m (\u001b[0;33m1\u001b[2m)\u001b[m               \u001b[2m |\u001b[m 1 of 1\u001b[32m ✔\u001b[m\u001b[K\n",
      "\u001b[2m[\u001b[0;34mf7/214123\u001b[0;2m] \u001b[0;2m\u001b[mTestExecutor\u001b[33;2m (\u001b[0;33m1\u001b[2m)\u001b[m              \u001b[2m |\u001b[m 1 of 1\u001b[32m ✔\u001b[m\u001b[K\n",
      "\u001b[2m[\u001b[0;34m7e/bf9800\u001b[0;2m] \u001b[0;2m\u001b[mAnalyzeJOSSCriteria\u001b[33;2m (\u001b[0;33mcosmicqc\u001b[2m)\u001b[m\u001b[2m |\u001b[m 1 of 1\u001b[32m ✔\u001b[m\u001b[K\n",
      "\u001b[2m[\u001b[0;34mcf/75201c\u001b[0;2m] \u001b[0;2m\u001b[mAIAnalysis\u001b[33;2m (\u001b[0;33m1\u001b[2m)\u001b[m                \u001b[2m |\u001b[m 1 of 1, ignored: 1\u001b[32m ✔\u001b[m\u001b[K\n",
      "\u001b[33m[cf/75201c] NOTE: Missing output file(s) `cosmicqc_ai_analysis.html` expected by process `AIAnalysis (1)` -- Error is ignored\u001b[39m\u001b[K\n",
      "\n"
     ]
    }
   ],
   "source": [
    "!nextflow run main.nf --repo_url https://github.com/cytomining/CytoTable.git --repo_url https://github.com/cytomining/cosmicqc.git --synapse_agent_id LOWYSX3QSQ"
   ]
  },
  {
   "cell_type": "code",
   "execution_count": 3,
   "id": "80da96af-cc0c-4bd3-9707-1321f6640315",
   "metadata": {},
   "outputs": [
    {
     "name": "stdout",
     "output_type": "stream",
     "text": [
      "cosmicqc_almanack_Results.json status_almanack_cosmicqc.txt\n",
      "joss_report_cosmicqc.json      test_results_cosmicqc.json\n"
     ]
    }
   ],
   "source": [
    "!ls results"
   ]
  }
 ],
 "metadata": {
  "kernelspec": {
   "display_name": "Python 3 (ipykernel)",
   "language": "python",
   "name": "python3"
  },
  "language_info": {
   "codemirror_mode": {
    "name": "ipython",
    "version": 3
   },
   "file_extension": ".py",
   "mimetype": "text/x-python",
   "name": "python",
   "nbconvert_exporter": "python",
   "pygments_lexer": "ipython3",
   "version": "3.13.5"
  }
 },
 "nbformat": 4,
 "nbformat_minor": 5
}
