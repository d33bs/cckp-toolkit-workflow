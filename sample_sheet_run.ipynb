{
 "cells": [
  {
   "cell_type": "markdown",
   "id": "7f3eb89e-c2f2-437d-bb2e-1088b0bc03bc",
   "metadata": {},
   "source": [
    "# Sample sheet run"
   ]
  },
  {
   "cell_type": "code",
   "execution_count": 1,
   "id": "7e41e05c-b11f-4373-8bd0-379d742c1d1a",
   "metadata": {},
   "outputs": [
    {
     "name": "stdout",
     "output_type": "stream",
     "text": [
      "repo_url\n",
      "https://github.com/PythonOT/POT.git\n",
      "https://github.com/RabadanLab/TARGet.git"
     ]
    }
   ],
   "source": [
    "!cat example-input.csv"
   ]
  },
  {
   "cell_type": "code",
   "execution_count": 2,
   "id": "ac10d496-72ac-4a98-a7ca-bb1c1bfd96f2",
   "metadata": {},
   "outputs": [
    {
     "name": "stdout",
     "output_type": "stream",
     "text": [
      "\n",
      "\u001b[1m\u001b[38;5;232m\u001b[48;5;43m N E X T F L O W \u001b[0;2m  ~  \u001b[mversion 25.04.6\u001b[m\n",
      "\u001b[K\n",
      "Launching\u001b[35m `main.nf` \u001b[0;2m[\u001b[0;1;36mbig_brattain\u001b[0;2m] DSL2 - \u001b[36mrevision: \u001b[0;36m5d709b8730\u001b[m\n",
      "\u001b[K\n",
      "ERROR ~ ERROR: synapse_agent_id must be provided.\n",
      "\n",
      " -- Check script 'main.nf' at line: 58 or see '.nextflow.log' file for more details\n"
     ]
    }
   ],
   "source": [
    "!nextflow run main.nf --sample_sheet example-input.csv"
   ]
  },
  {
   "cell_type": "code",
   "execution_count": 3,
   "id": "f8a18deb-1ecc-4723-8da9-cd7782215f78",
   "metadata": {},
   "outputs": [
    {
     "name": "stdout",
     "output_type": "stream",
     "text": [
      "\n",
      "\u001b[1m\u001b[38;5;232m\u001b[48;5;43m N E X T F L O W \u001b[0;2m  ~  \u001b[mversion 25.04.6\u001b[m\n",
      "\u001b[K\n",
      "Launching\u001b[35m `main.nf` \u001b[0;2m[\u001b[0;1;36mnice_sanger\u001b[0;2m] DSL2 - \u001b[36mrevision: \u001b[0;36m5d709b8730\u001b[m\n",
      "\u001b[K\n",
      "\u001b[2mexecutor >  local (2)\u001b[m\u001b[K\n",
      "\u001b[2m[\u001b[0;34mb1/cac7f7\u001b[0;2m] \u001b[0;2m\u001b[mProcessRepo\u001b[33;2m (\u001b[0;33m1\u001b[2m)\u001b[m    \u001b[2m |\u001b[m 0 of 2\u001b[K\n",
      "\u001b[2m[\u001b[0;34m-        \u001b[0;2m] \u001b[0;2m\u001b[mRunAlmanack         -\u001b[K\n",
      "\u001b[2m[\u001b[0;34m-        \u001b[0;2m] \u001b[0;2m\u001b[mTestExecutor        -\u001b[K\n",
      "\u001b[2m[\u001b[0;34m-        \u001b[0;2m] \u001b[0;2m\u001b[mAnalyzeJOSSCriteria -\u001b[K\n",
      "\u001b[2m[\u001b[0;34m-        \u001b[0;2m] \u001b[0;2m\u001b[mAIAnalysis          -\u001b[K\n",
      "\u001b[7A\n",
      "\u001b[2mexecutor >  local (2)\u001b[m\u001b[K\n",
      "\u001b[2m[\u001b[0;34mb1/cac7f7\u001b[0;2m] \u001b[0;2m\u001b[mProcessRepo\u001b[33;2m (\u001b[0;33m1\u001b[2m)\u001b[m    \u001b[2m |\u001b[m 0 of 2\u001b[K\n",
      "\u001b[2m[\u001b[0;34m-        \u001b[0;2m] \u001b[0;2m\u001b[mRunAlmanack         -\u001b[K\n",
      "\u001b[2m[\u001b[0;34m-        \u001b[0;2m] \u001b[0;2m\u001b[mTestExecutor        -\u001b[K\n",
      "\u001b[2m[\u001b[0;34m-        \u001b[0;2m] \u001b[0;2m\u001b[mAnalyzeJOSSCriteria -\u001b[K\n",
      "\u001b[2m[\u001b[0;34m-        \u001b[0;2m] \u001b[0;2m\u001b[mAIAnalysis          -\u001b[K\n",
      "\u001b[7A\n",
      "\u001b[2mexecutor >  local (4)\u001b[m\u001b[K\n",
      "\u001b[2m[\u001b[0;34md7/d036b6\u001b[0;2m] \u001b[0;2m\u001b[mProcessRepo\u001b[33;2m (\u001b[0;33m2\u001b[2m)\u001b[m    \u001b[2m |\u001b[m 1 of 2\u001b[K\n",
      "\u001b[2m[\u001b[0;34m85/466c4f\u001b[0;2m] \u001b[0;2m\u001b[mRunAlmanack\u001b[33;2m (\u001b[0;33m1\u001b[2m)\u001b[m    \u001b[2m |\u001b[m 0 of 1\u001b[K\n",
      "\u001b[2m[\u001b[0;34m33/f68ba3\u001b[0;2m] \u001b[0;2m\u001b[mTestExecutor\u001b[33;2m (\u001b[0;33m1\u001b[2m)\u001b[m   \u001b[2m |\u001b[m 0 of 1\u001b[K\n",
      "\u001b[2m[\u001b[0;34m-        \u001b[0;2m] \u001b[0;2m\u001b[mAnalyzeJOSSCriteria -\u001b[K\n",
      "\u001b[2m[\u001b[0;34m-        \u001b[0;2m] \u001b[0;2m\u001b[mAIAnalysis          -\u001b[K\n",
      "\u001b[7A\n",
      "\u001b[2mexecutor >  local (6)\u001b[m\u001b[K\n",
      "\u001b[2m[\u001b[0;34mb1/cac7f7\u001b[0;2m] \u001b[0;2m\u001b[mProcessRepo\u001b[33;2m (\u001b[0;33m1\u001b[2m)\u001b[m    \u001b[2m |\u001b[m 2 of 2\u001b[32m ✔\u001b[m\u001b[K\n",
      "\u001b[2m[\u001b[0;34mf6/8ff056\u001b[0;2m] \u001b[0;2m\u001b[mRunAlmanack\u001b[33;2m (\u001b[0;33m2\u001b[2m)\u001b[m    \u001b[2m |\u001b[m 0 of 2\u001b[K\n",
      "\u001b[2m[\u001b[0;34mfa/97b32b\u001b[0;2m] \u001b[0;2m\u001b[mTestExecutor\u001b[33;2m (\u001b[0;33m2\u001b[2m)\u001b[m   \u001b[2m |\u001b[m 0 of 2\u001b[K\n",
      "\u001b[2m[\u001b[0;34m-        \u001b[0;2m] \u001b[0;2m\u001b[mAnalyzeJOSSCriteria -\u001b[K\n",
      "\u001b[2m[\u001b[0;34m-        \u001b[0;2m] \u001b[0;2m\u001b[mAIAnalysis          -\u001b[K\n",
      "\u001b[7A\n",
      "\u001b[2mexecutor >  local (6)\u001b[m\u001b[K\n",
      "\u001b[2m[\u001b[0;34mb1/cac7f7\u001b[0;2m] \u001b[0;2m\u001b[mProcessRepo\u001b[33;2m (\u001b[0;33m1\u001b[2m)\u001b[m    \u001b[2m |\u001b[m 2 of 2\u001b[32m ✔\u001b[m\u001b[K\n",
      "\u001b[2m[\u001b[0;34mf6/8ff056\u001b[0;2m] \u001b[0;2m\u001b[mRunAlmanack\u001b[33;2m (\u001b[0;33m2\u001b[2m)\u001b[m    \u001b[2m |\u001b[m 0 of 2\u001b[K\n",
      "\u001b[2m[\u001b[0;34mfa/97b32b\u001b[0;2m] \u001b[0;2m\u001b[mTestExecutor\u001b[33;2m (\u001b[0;33m2\u001b[2m)\u001b[m   \u001b[2m |\u001b[m 0 of 2\u001b[K\n",
      "\u001b[2m[\u001b[0;34m-        \u001b[0;2m] \u001b[0;2m\u001b[mAnalyzeJOSSCriteria -\u001b[K\n",
      "\u001b[2m[\u001b[0;34m-        \u001b[0;2m] \u001b[0;2m\u001b[mAIAnalysis          -\u001b[K\n",
      "\u001b[7A\n",
      "\u001b[2mexecutor >  local (6)\u001b[m\u001b[K\n",
      "\u001b[2m[\u001b[0;34mb1/cac7f7\u001b[0;2m] \u001b[0;2m\u001b[mProcessRepo\u001b[33;2m (\u001b[0;33m1\u001b[2m)\u001b[m    \u001b[2m |\u001b[m 2 of 2\u001b[32m ✔\u001b[m\u001b[K\n",
      "\u001b[2m[\u001b[0;34mf6/8ff056\u001b[0;2m] \u001b[0;2m\u001b[mRunAlmanack\u001b[33;2m (\u001b[0;33m2\u001b[2m)\u001b[m    \u001b[2m |\u001b[m 0 of 2\u001b[K\n",
      "\u001b[2m[\u001b[0;34m33/f68ba3\u001b[0;2m] \u001b[0;2m\u001b[mTestExecutor\u001b[33;2m (\u001b[0;33m1\u001b[2m)\u001b[m   \u001b[2m |\u001b[m 1 of 2\u001b[K\n",
      "\u001b[2m[\u001b[0;34m-        \u001b[0;2m] \u001b[0;2m\u001b[mAnalyzeJOSSCriteria -\u001b[K\n",
      "\u001b[2m[\u001b[0;34m-        \u001b[0;2m] \u001b[0;2m\u001b[mAIAnalysis          -\u001b[K\n",
      "\u001b[7A\n",
      "\u001b[2mexecutor >  local (7)\u001b[m\u001b[K\n",
      "\u001b[2m[\u001b[0;34mb1/cac7f7\u001b[0;2m] \u001b[0;2m\u001b[mProcessRepo\u001b[33;2m (\u001b[0;33m1\u001b[2m)\u001b[m             \u001b[2m |\u001b[m 2 of 2\u001b[32m ✔\u001b[m\u001b[K\n",
      "\u001b[2m[\u001b[0;34m85/466c4f\u001b[0;2m] \u001b[0;2m\u001b[mRunAlmanack\u001b[33;2m (\u001b[0;33m1\u001b[2m)\u001b[m             \u001b[2m |\u001b[m 1 of 2\u001b[K\n",
      "\u001b[2m[\u001b[0;34m33/f68ba3\u001b[0;2m] \u001b[0;2m\u001b[mTestExecutor\u001b[33;2m (\u001b[0;33m1\u001b[2m)\u001b[m            \u001b[2m |\u001b[m 1 of 2\u001b[K\n",
      "\u001b[2m[\u001b[0;34m0e/ae6084\u001b[0;2m] \u001b[0;2m\u001b[mAnalyzeJOSSCriteria\u001b[33;2m (\u001b[0;33mTARGet\u001b[2m)\u001b[m\u001b[2m |\u001b[m 0 of 1\u001b[K\n",
      "\u001b[2m[\u001b[0;34m-        \u001b[0;2m] \u001b[0;2m\u001b[mAIAnalysis                   -\u001b[K\n",
      "\u001b[7A\n",
      "\u001b[2mexecutor >  local (8)\u001b[m\u001b[K\n",
      "\u001b[2m[\u001b[0;34mb1/cac7f7\u001b[0;2m] \u001b[0;2m\u001b[mProcessRepo\u001b[33;2m (\u001b[0;33m1\u001b[2m)\u001b[m             \u001b[2m |\u001b[m 2 of 2\u001b[32m ✔\u001b[m\u001b[K\n",
      "\u001b[2m[\u001b[0;34m85/466c4f\u001b[0;2m] \u001b[0;2m\u001b[mRunAlmanack\u001b[33;2m (\u001b[0;33m1\u001b[2m)\u001b[m             \u001b[2m |\u001b[m 1 of 2\u001b[K\n",
      "\u001b[2m[\u001b[0;34m33/f68ba3\u001b[0;2m] \u001b[0;2m\u001b[mTestExecutor\u001b[33;2m (\u001b[0;33m1\u001b[2m)\u001b[m            \u001b[2m |\u001b[m 1 of 2\u001b[K\n",
      "\u001b[2m[\u001b[0;34m0e/ae6084\u001b[0;2m] \u001b[0;2m\u001b[mAnalyzeJOSSCriteria\u001b[33;2m (\u001b[0;33mTARGet\u001b[2m)\u001b[m\u001b[2m |\u001b[m 1 of 1\u001b[K\n",
      "\u001b[2m[\u001b[0;34mc1/56d6c2\u001b[0;2m] \u001b[0;2m\u001b[mAIAnalysis\u001b[33;2m (\u001b[0;33m1\u001b[2m)\u001b[m              \u001b[2m |\u001b[m 0 of 1\u001b[K\n",
      "\u001b[7A\n",
      "\u001b[2mexecutor >  local (8)\u001b[m\u001b[K\n",
      "\u001b[2m[\u001b[0;34mb1/cac7f7\u001b[0;2m] \u001b[0;2m\u001b[mProcessRepo\u001b[33;2m (\u001b[0;33m1\u001b[2m)\u001b[m             \u001b[2m |\u001b[m 2 of 2\u001b[32m ✔\u001b[m\u001b[K\n",
      "\u001b[2m[\u001b[0;34m85/466c4f\u001b[0;2m] \u001b[0;2m\u001b[mRunAlmanack\u001b[33;2m (\u001b[0;33m1\u001b[2m)\u001b[m             \u001b[2m |\u001b[m 1 of 2\u001b[K\n",
      "\u001b[2m[\u001b[0;34m33/f68ba3\u001b[0;2m] \u001b[0;2m\u001b[mTestExecutor\u001b[33;2m (\u001b[0;33m1\u001b[2m)\u001b[m            \u001b[2m |\u001b[m 1 of 2\u001b[K\n",
      "\u001b[2m[\u001b[0;34m0e/ae6084\u001b[0;2m] \u001b[0;2m\u001b[mAnalyzeJOSSCriteria\u001b[33;2m (\u001b[0;33mTARGet\u001b[2m)\u001b[m\u001b[2m |\u001b[m 1 of 1\u001b[K\n",
      "\u001b[2m[\u001b[0;34mc1/56d6c2\u001b[0;2m] \u001b[0;2m\u001b[mAIAnalysis\u001b[33;2m (\u001b[0;33m1\u001b[2m)\u001b[m              \u001b[2m |\u001b[m 0 of 1\u001b[K\n",
      "\u001b[7A\n",
      "\u001b[2mexecutor >  local (8)\u001b[m\u001b[K\n",
      "\u001b[2m[\u001b[0;34mb1/cac7f7\u001b[0;2m] \u001b[0;2m\u001b[mProcessRepo\u001b[33;2m (\u001b[0;33m1\u001b[2m)\u001b[m             \u001b[2m |\u001b[m 2 of 2\u001b[32m ✔\u001b[m\u001b[K\n",
      "\u001b[2m[\u001b[0;34mf6/8ff056\u001b[0;2m] \u001b[0;2m\u001b[mRunAlmanack\u001b[33;2m (\u001b[0;33m2\u001b[2m)\u001b[m             \u001b[2m |\u001b[m 2 of 2\u001b[32m ✔\u001b[m\u001b[K\n",
      "\u001b[2m[\u001b[0;34m33/f68ba3\u001b[0;2m] \u001b[0;2m\u001b[mTestExecutor\u001b[33;2m (\u001b[0;33m1\u001b[2m)\u001b[m            \u001b[2m |\u001b[m 1 of 2\u001b[K\n",
      "\u001b[2m[\u001b[0;34m0e/ae6084\u001b[0;2m] \u001b[0;2m\u001b[mAnalyzeJOSSCriteria\u001b[33;2m (\u001b[0;33mTARGet\u001b[2m)\u001b[m\u001b[2m |\u001b[m 1 of 1\u001b[K\n",
      "\u001b[2m[\u001b[0;34mc1/56d6c2\u001b[0;2m] \u001b[0;2m\u001b[mAIAnalysis\u001b[33;2m (\u001b[0;33m1\u001b[2m)\u001b[m              \u001b[2m |\u001b[m 1 of 1, ignored: 1\u001b[K\n",
      "\u001b[33m[c1/56d6c2] NOTE: Missing output file(s) `TARGet_ai_analysis.html` expected by process `AIAnalysis (1)` -- Error is ignored\u001b[39m\u001b[K\n",
      "\u001b[8A\n",
      "\u001b[2mexecutor >  local (8)\u001b[m\u001b[K\n",
      "\u001b[2m[\u001b[0;34mb1/cac7f7\u001b[0;2m] \u001b[0;2m\u001b[mProcessRepo\u001b[33;2m (\u001b[0;33m1\u001b[2m)\u001b[m             \u001b[2m |\u001b[m 2 of 2\u001b[32m ✔\u001b[m\u001b[K\n",
      "\u001b[2m[\u001b[0;34mf6/8ff056\u001b[0;2m] \u001b[0;2m\u001b[mRunAlmanack\u001b[33;2m (\u001b[0;33m2\u001b[2m)\u001b[m             \u001b[2m |\u001b[m 2 of 2\u001b[32m ✔\u001b[m\u001b[K\n",
      "\u001b[2m[\u001b[0;34mfa/97b32b\u001b[0;2m] \u001b[0;2m\u001b[mTestExecutor\u001b[33;2m (\u001b[0;33m2\u001b[2m)\u001b[m            \u001b[2m |\u001b[m 2 of 2\u001b[32m ✔\u001b[m\u001b[K\n",
      "\u001b[2m[\u001b[0;34m0e/ae6084\u001b[0;2m] \u001b[0;2m\u001b[mAnalyzeJOSSCriteria\u001b[33;2m (\u001b[0;33mTARGet\u001b[2m)\u001b[m\u001b[2m |\u001b[m 1 of 2\u001b[K\n",
      "\u001b[2m[\u001b[0;34mc1/56d6c2\u001b[0;2m] \u001b[0;2m\u001b[mAIAnalysis\u001b[33;2m (\u001b[0;33m1\u001b[2m)\u001b[m              \u001b[2m |\u001b[m 1 of 1, ignored: 1\u001b[K\n",
      "\u001b[K\n",
      "\u001b[8A\n",
      "\u001b[2mexecutor >  local (9)\u001b[m\u001b[K\n",
      "\u001b[2m[\u001b[0;34mb1/cac7f7\u001b[0;2m] \u001b[0;2m\u001b[mProcessRepo\u001b[33;2m (\u001b[0;33m1\u001b[2m)\u001b[m             \u001b[2m |\u001b[m 2 of 2\u001b[32m ✔\u001b[m\u001b[K\n",
      "\u001b[2m[\u001b[0;34mf6/8ff056\u001b[0;2m] \u001b[0;2m\u001b[mRunAlmanack\u001b[33;2m (\u001b[0;33m2\u001b[2m)\u001b[m             \u001b[2m |\u001b[m 2 of 2\u001b[32m ✔\u001b[m\u001b[K\n",
      "\u001b[2m[\u001b[0;34mfa/97b32b\u001b[0;2m] \u001b[0;2m\u001b[mTestExecutor\u001b[33;2m (\u001b[0;33m2\u001b[2m)\u001b[m            \u001b[2m |\u001b[m 2 of 2\u001b[32m ✔\u001b[m\u001b[K\n",
      "\u001b[2m[\u001b[0;34m02/78cf74\u001b[0;2m] \u001b[0;2m\u001b[mAnalyzeJOSSCriteria\u001b[33;2m (\u001b[0;33mPOT\u001b[2m)\u001b[m   \u001b[2m |\u001b[m 1 of 2\u001b[K\n",
      "\u001b[2m[\u001b[0;34mc1/56d6c2\u001b[0;2m] \u001b[0;2m\u001b[mAIAnalysis\u001b[33;2m (\u001b[0;33m1\u001b[2m)\u001b[m              \u001b[2m |\u001b[m 1 of 1, ignored: 1\u001b[K\n",
      "\u001b[K\n",
      "\u001b[8A\n",
      "\u001b[2mexecutor >  local (10)\u001b[m\u001b[K\n",
      "\u001b[2m[\u001b[0;34mb1/cac7f7\u001b[0;2m] \u001b[0;2m\u001b[mProcessRepo\u001b[33;2m (\u001b[0;33m1\u001b[2m)\u001b[m             \u001b[2m |\u001b[m 2 of 2\u001b[32m ✔\u001b[m\u001b[K\n",
      "\u001b[2m[\u001b[0;34mf6/8ff056\u001b[0;2m] \u001b[0;2m\u001b[mRunAlmanack\u001b[33;2m (\u001b[0;33m2\u001b[2m)\u001b[m             \u001b[2m |\u001b[m 2 of 2\u001b[32m ✔\u001b[m\u001b[K\n",
      "\u001b[2m[\u001b[0;34mfa/97b32b\u001b[0;2m] \u001b[0;2m\u001b[mTestExecutor\u001b[33;2m (\u001b[0;33m2\u001b[2m)\u001b[m            \u001b[2m |\u001b[m 2 of 2\u001b[32m ✔\u001b[m\u001b[K\n",
      "\u001b[2m[\u001b[0;34m02/78cf74\u001b[0;2m] \u001b[0;2m\u001b[mAnalyzeJOSSCriteria\u001b[33;2m (\u001b[0;33mPOT\u001b[2m)\u001b[m   \u001b[2m |\u001b[m 2 of 2\u001b[32m ✔\u001b[m\u001b[K\n",
      "\u001b[2m[\u001b[0;34mb5/d0ee97\u001b[0;2m] \u001b[0;2m\u001b[mAIAnalysis\u001b[33;2m (\u001b[0;33m2\u001b[2m)\u001b[m              \u001b[2m |\u001b[m 1 of 2, ignored: 1\u001b[K\n",
      "\u001b[7A\n",
      "\u001b[2mexecutor >  local (10)\u001b[m\u001b[K\n",
      "\u001b[2m[\u001b[0;34mb1/cac7f7\u001b[0;2m] \u001b[0;2m\u001b[mProcessRepo\u001b[33;2m (\u001b[0;33m1\u001b[2m)\u001b[m             \u001b[2m |\u001b[m 2 of 2\u001b[32m ✔\u001b[m\u001b[K\n",
      "\u001b[2m[\u001b[0;34mf6/8ff056\u001b[0;2m] \u001b[0;2m\u001b[mRunAlmanack\u001b[33;2m (\u001b[0;33m2\u001b[2m)\u001b[m             \u001b[2m |\u001b[m 2 of 2\u001b[32m ✔\u001b[m\u001b[K\n",
      "\u001b[2m[\u001b[0;34mfa/97b32b\u001b[0;2m] \u001b[0;2m\u001b[mTestExecutor\u001b[33;2m (\u001b[0;33m2\u001b[2m)\u001b[m            \u001b[2m |\u001b[m 2 of 2\u001b[32m ✔\u001b[m\u001b[K\n",
      "\u001b[2m[\u001b[0;34m02/78cf74\u001b[0;2m] \u001b[0;2m\u001b[mAnalyzeJOSSCriteria\u001b[33;2m (\u001b[0;33mPOT\u001b[2m)\u001b[m   \u001b[2m |\u001b[m 2 of 2\u001b[32m ✔\u001b[m\u001b[K\n",
      "\u001b[2m[\u001b[0;34mb5/d0ee97\u001b[0;2m] \u001b[0;2m\u001b[mAIAnalysis\u001b[33;2m (\u001b[0;33m2\u001b[2m)\u001b[m              \u001b[2m |\u001b[m 1 of 2, ignored: 1\u001b[K\n",
      "\u001b[7A\n",
      "\u001b[2mexecutor >  local (10)\u001b[m\u001b[K\n",
      "\u001b[2m[\u001b[0;34mb1/cac7f7\u001b[0;2m] \u001b[0;2m\u001b[mProcessRepo\u001b[33;2m (\u001b[0;33m1\u001b[2m)\u001b[m             \u001b[2m |\u001b[m 2 of 2\u001b[32m ✔\u001b[m\u001b[K\n",
      "\u001b[2m[\u001b[0;34mf6/8ff056\u001b[0;2m] \u001b[0;2m\u001b[mRunAlmanack\u001b[33;2m (\u001b[0;33m2\u001b[2m)\u001b[m             \u001b[2m |\u001b[m 2 of 2\u001b[32m ✔\u001b[m\u001b[K\n",
      "\u001b[2m[\u001b[0;34mfa/97b32b\u001b[0;2m] \u001b[0;2m\u001b[mTestExecutor\u001b[33;2m (\u001b[0;33m2\u001b[2m)\u001b[m            \u001b[2m |\u001b[m 2 of 2\u001b[32m ✔\u001b[m\u001b[K\n",
      "\u001b[2m[\u001b[0;34m02/78cf74\u001b[0;2m] \u001b[0;2m\u001b[mAnalyzeJOSSCriteria\u001b[33;2m (\u001b[0;33mPOT\u001b[2m)\u001b[m   \u001b[2m |\u001b[m 2 of 2\u001b[32m ✔\u001b[m\u001b[K\n",
      "\u001b[2m[\u001b[0;34mb5/d0ee97\u001b[0;2m] \u001b[0;2m\u001b[mAIAnalysis\u001b[33;2m (\u001b[0;33m2\u001b[2m)\u001b[m              \u001b[2m |\u001b[m 2 of 2, ignored: 2\u001b[32m ✔\u001b[m\u001b[K\n",
      "\u001b[33m[b5/d0ee97] NOTE: Missing output file(s) `POT_ai_analysis.html` expected by process `AIAnalysis (2)` -- Error is ignored\u001b[39m\u001b[K\n",
      "\u001b[8A\n",
      "\u001b[2mexecutor >  local (10)\u001b[m\u001b[K\n",
      "\u001b[2m[\u001b[0;34mb1/cac7f7\u001b[0;2m] \u001b[0;2m\u001b[mProcessRepo\u001b[33;2m (\u001b[0;33m1\u001b[2m)\u001b[m             \u001b[2m |\u001b[m 2 of 2\u001b[32m ✔\u001b[m\u001b[K\n",
      "\u001b[2m[\u001b[0;34mf6/8ff056\u001b[0;2m] \u001b[0;2m\u001b[mRunAlmanack\u001b[33;2m (\u001b[0;33m2\u001b[2m)\u001b[m             \u001b[2m |\u001b[m 2 of 2\u001b[32m ✔\u001b[m\u001b[K\n",
      "\u001b[2m[\u001b[0;34mfa/97b32b\u001b[0;2m] \u001b[0;2m\u001b[mTestExecutor\u001b[33;2m (\u001b[0;33m2\u001b[2m)\u001b[m            \u001b[2m |\u001b[m 2 of 2\u001b[32m ✔\u001b[m\u001b[K\n",
      "\u001b[2m[\u001b[0;34m02/78cf74\u001b[0;2m] \u001b[0;2m\u001b[mAnalyzeJOSSCriteria\u001b[33;2m (\u001b[0;33mPOT\u001b[2m)\u001b[m   \u001b[2m |\u001b[m 2 of 2\u001b[32m ✔\u001b[m\u001b[K\n",
      "\u001b[2m[\u001b[0;34mb5/d0ee97\u001b[0;2m] \u001b[0;2m\u001b[mAIAnalysis\u001b[33;2m (\u001b[0;33m2\u001b[2m)\u001b[m              \u001b[2m |\u001b[m 2 of 2, ignored: 2\u001b[32m ✔\u001b[m\u001b[K\n",
      "\u001b[33m[b5/d0ee97] NOTE: Missing output file(s) `POT_ai_analysis.html` expected by process `AIAnalysis (2)` -- Error is ignored\u001b[39m\u001b[K\n",
      "\n"
     ]
    }
   ],
   "source": [
    "!nextflow run main.nf --sample_sheet example-input.csv --synapse_agent_id LOWYSX3QSQ"
   ]
  },
  {
   "cell_type": "code",
   "execution_count": 4,
   "id": "9d83df1b-1d13-4a4e-8675-775cdc782f40",
   "metadata": {},
   "outputs": [
    {
     "name": "stdout",
     "output_type": "stream",
     "text": [
      "joss_report_POT.json         status_almanack_TARGet.txt\n",
      "joss_report_TARGet.json      TARGet_almanack_Results.json\n",
      "POT_almanack_Results.json    test_results_POT.json\n",
      "status_almanack_POT.txt      test_results_TARGet.json\n"
     ]
    }
   ],
   "source": [
    "!ls results"
   ]
  },
  {
   "cell_type": "code",
   "execution_count": 8,
   "id": "60395240-a560-4a59-8206-ef9f7aa83c75",
   "metadata": {},
   "outputs": [
    {
     "name": "stdout",
     "output_type": "stream",
     "text": [
      "repo_url\n",
      "https://github.com/cytomining/CytoTable.git\n",
      "https://github.com/cytomining/cosmicqc.git\n"
     ]
    }
   ],
   "source": [
    "!echo -e \"repo_url\\nhttps://github.com/cytomining/CytoTable.git\\nhttps://github.com/cytomining/cosmicqc.git\" > specific-example.csv\n",
    "!cat specific-example.csv"
   ]
  },
  {
   "cell_type": "code",
   "execution_count": 9,
   "id": "e8dfca12-8be4-4754-912f-27dcb4f6cf5c",
   "metadata": {},
   "outputs": [
    {
     "name": "stdout",
     "output_type": "stream",
     "text": [
      "\n",
      "\u001b[1m\u001b[38;5;232m\u001b[48;5;43m N E X T F L O W \u001b[0;2m  ~  \u001b[mversion 25.04.6\u001b[m\n",
      "\u001b[K\n",
      "Launching\u001b[35m `main.nf` \u001b[0;2m[\u001b[0;1;36mbig_volta\u001b[0;2m] DSL2 - \u001b[36mrevision: \u001b[0;36m5d709b8730\u001b[m\n",
      "\u001b[K\n",
      "\u001b[2m[\u001b[0;34m-        \u001b[0;2m] \u001b[0;2m\u001b[mProcessRepo        \u001b[2m |\u001b[m 0 of 2\u001b[K\n",
      "\u001b[2m[\u001b[0;34m-        \u001b[0;2m] \u001b[0;2m\u001b[mRunAlmanack         -\u001b[K\n",
      "\u001b[2m[\u001b[0;34m-        \u001b[0;2m] \u001b[0;2m\u001b[mTestExecutor        -\u001b[K\n",
      "\u001b[2m[\u001b[0;34m-        \u001b[0;2m] \u001b[0;2m\u001b[mAnalyzeJOSSCriteria -\u001b[K\n",
      "\u001b[2m[\u001b[0;34m-        \u001b[0;2m] \u001b[0;2m\u001b[mAIAnalysis          -\u001b[K\n",
      "\u001b[6A\n",
      "\u001b[2mexecutor >  local (2)\u001b[m\u001b[K\n",
      "\u001b[2m[\u001b[0;34m94/168c04\u001b[0;2m] \u001b[0;2m\u001b[mProcessRepo\u001b[33;2m (\u001b[0;33m2\u001b[2m)\u001b[m    \u001b[2m |\u001b[m 0 of 2\u001b[K\n",
      "\u001b[2m[\u001b[0;34m-        \u001b[0;2m] \u001b[0;2m\u001b[mRunAlmanack         -\u001b[K\n",
      "\u001b[2m[\u001b[0;34m-        \u001b[0;2m] \u001b[0;2m\u001b[mTestExecutor        -\u001b[K\n",
      "\u001b[2m[\u001b[0;34m-        \u001b[0;2m] \u001b[0;2m\u001b[mAnalyzeJOSSCriteria -\u001b[K\n",
      "\u001b[2m[\u001b[0;34m-        \u001b[0;2m] \u001b[0;2m\u001b[mAIAnalysis          -\u001b[K\n",
      "\u001b[7A\n",
      "\u001b[2mexecutor >  local (4)\u001b[m\u001b[K\n",
      "\u001b[2m[\u001b[0;34m94/168c04\u001b[0;2m] \u001b[0;2m\u001b[mProcessRepo\u001b[33;2m (\u001b[0;33m2\u001b[2m)\u001b[m    \u001b[2m |\u001b[m 1 of 2\u001b[K\n",
      "\u001b[2m[\u001b[0;34mba/ef0f38\u001b[0;2m] \u001b[0;2m\u001b[mRunAlmanack\u001b[33;2m (\u001b[0;33m1\u001b[2m)\u001b[m    \u001b[2m |\u001b[m 0 of 1\u001b[K\n",
      "\u001b[2m[\u001b[0;34m87/b715ae\u001b[0;2m] \u001b[0;2m\u001b[mTestExecutor\u001b[33;2m (\u001b[0;33m1\u001b[2m)\u001b[m   \u001b[2m |\u001b[m 0 of 1\u001b[K\n",
      "\u001b[2m[\u001b[0;34m-        \u001b[0;2m] \u001b[0;2m\u001b[mAnalyzeJOSSCriteria -\u001b[K\n",
      "\u001b[2m[\u001b[0;34m-        \u001b[0;2m] \u001b[0;2m\u001b[mAIAnalysis          -\u001b[K\n",
      "\u001b[7A\n",
      "\u001b[2mexecutor >  local (4)\u001b[m\u001b[K\n",
      "\u001b[2m[\u001b[0;34m94/168c04\u001b[0;2m] \u001b[0;2m\u001b[mProcessRepo\u001b[33;2m (\u001b[0;33m2\u001b[2m)\u001b[m    \u001b[2m |\u001b[m 1 of 2\u001b[K\n",
      "\u001b[2m[\u001b[0;34mba/ef0f38\u001b[0;2m] \u001b[0;2m\u001b[mRunAlmanack\u001b[33;2m (\u001b[0;33m1\u001b[2m)\u001b[m    \u001b[2m |\u001b[m 0 of 1\u001b[K\n",
      "\u001b[2m[\u001b[0;34m87/b715ae\u001b[0;2m] \u001b[0;2m\u001b[mTestExecutor\u001b[33;2m (\u001b[0;33m1\u001b[2m)\u001b[m   \u001b[2m |\u001b[m 0 of 1\u001b[K\n",
      "\u001b[2m[\u001b[0;34m-        \u001b[0;2m] \u001b[0;2m\u001b[mAnalyzeJOSSCriteria -\u001b[K\n",
      "\u001b[2m[\u001b[0;34m-        \u001b[0;2m] \u001b[0;2m\u001b[mAIAnalysis          -\u001b[K\n",
      "\u001b[7A\n",
      "\u001b[2mexecutor >  local (4)\u001b[m\u001b[K\n",
      "\u001b[2m[\u001b[0;34m94/168c04\u001b[0;2m] \u001b[0;2m\u001b[mProcessRepo\u001b[33;2m (\u001b[0;33m2\u001b[2m)\u001b[m    \u001b[2m |\u001b[m 1 of 2\u001b[K\n",
      "\u001b[2m[\u001b[0;34mba/ef0f38\u001b[0;2m] \u001b[0;2m\u001b[mRunAlmanack\u001b[33;2m (\u001b[0;33m1\u001b[2m)\u001b[m    \u001b[2m |\u001b[m 0 of 1\u001b[K\n",
      "\u001b[2m[\u001b[0;34m87/b715ae\u001b[0;2m] \u001b[0;2m\u001b[mTestExecutor\u001b[33;2m (\u001b[0;33m1\u001b[2m)\u001b[m   \u001b[2m |\u001b[m 1 of 1\u001b[K\n",
      "\u001b[2m[\u001b[0;34m-        \u001b[0;2m] \u001b[0;2m\u001b[mAnalyzeJOSSCriteria -\u001b[K\n",
      "\u001b[2m[\u001b[0;34m-        \u001b[0;2m] \u001b[0;2m\u001b[mAIAnalysis          -\u001b[K\n",
      "\u001b[7A\n",
      "\u001b[2mexecutor >  local (5)\u001b[m\u001b[K\n",
      "\u001b[2m[\u001b[0;34m94/168c04\u001b[0;2m] \u001b[0;2m\u001b[mProcessRepo\u001b[33;2m (\u001b[0;33m2\u001b[2m)\u001b[m               \u001b[2m |\u001b[m 1 of 2\u001b[K\n",
      "\u001b[2m[\u001b[0;34mba/ef0f38\u001b[0;2m] \u001b[0;2m\u001b[mRunAlmanack\u001b[33;2m (\u001b[0;33m1\u001b[2m)\u001b[m               \u001b[2m |\u001b[m 1 of 1\u001b[K\n",
      "\u001b[2m[\u001b[0;34m87/b715ae\u001b[0;2m] \u001b[0;2m\u001b[mTestExecutor\u001b[33;2m (\u001b[0;33m1\u001b[2m)\u001b[m              \u001b[2m |\u001b[m 1 of 1\u001b[K\n",
      "\u001b[2m[\u001b[0;34mfa/c6334f\u001b[0;2m] \u001b[0;2m\u001b[mAnalyzeJOSSCriteria\u001b[33;2m (\u001b[0;33mcosmicqc\u001b[2m)\u001b[m\u001b[2m |\u001b[m 0 of 1\u001b[K\n",
      "\u001b[2m[\u001b[0;34m-        \u001b[0;2m] \u001b[0;2m\u001b[mAIAnalysis                     -\u001b[K\n",
      "\u001b[7A\n",
      "\u001b[2mexecutor >  local (5)\u001b[m\u001b[K\n",
      "\u001b[2m[\u001b[0;34m94/168c04\u001b[0;2m] \u001b[0;2m\u001b[mProcessRepo\u001b[33;2m (\u001b[0;33m2\u001b[2m)\u001b[m               \u001b[2m |\u001b[m 1 of 2\u001b[K\n",
      "\u001b[2m[\u001b[0;34mba/ef0f38\u001b[0;2m] \u001b[0;2m\u001b[mRunAlmanack\u001b[33;2m (\u001b[0;33m1\u001b[2m)\u001b[m               \u001b[2m |\u001b[m 1 of 1\u001b[K\n",
      "\u001b[2m[\u001b[0;34m87/b715ae\u001b[0;2m] \u001b[0;2m\u001b[mTestExecutor\u001b[33;2m (\u001b[0;33m1\u001b[2m)\u001b[m              \u001b[2m |\u001b[m 1 of 1\u001b[K\n",
      "\u001b[2m[\u001b[0;34mfa/c6334f\u001b[0;2m] \u001b[0;2m\u001b[mAnalyzeJOSSCriteria\u001b[33;2m (\u001b[0;33mcosmicqc\u001b[2m)\u001b[m\u001b[2m |\u001b[m 0 of 1\u001b[K\n",
      "\u001b[2m[\u001b[0;34m-        \u001b[0;2m] \u001b[0;2m\u001b[mAIAnalysis                     -\u001b[K\n",
      "\u001b[7A\n",
      "\u001b[2mexecutor >  local (5)\u001b[m\u001b[K\n",
      "\u001b[2m[\u001b[0;34m94/168c04\u001b[0;2m] \u001b[0;2m\u001b[mProcessRepo\u001b[33;2m (\u001b[0;33m2\u001b[2m)\u001b[m               \u001b[2m |\u001b[m 1 of 2\u001b[K\n",
      "\u001b[2m[\u001b[0;34mba/ef0f38\u001b[0;2m] \u001b[0;2m\u001b[mRunAlmanack\u001b[33;2m (\u001b[0;33m1\u001b[2m)\u001b[m               \u001b[2m |\u001b[m 1 of 1\u001b[K\n",
      "\u001b[2m[\u001b[0;34m87/b715ae\u001b[0;2m] \u001b[0;2m\u001b[mTestExecutor\u001b[33;2m (\u001b[0;33m1\u001b[2m)\u001b[m              \u001b[2m |\u001b[m 1 of 1\u001b[K\n",
      "\u001b[2m[\u001b[0;34mfa/c6334f\u001b[0;2m] \u001b[0;2m\u001b[mAnalyzeJOSSCriteria\u001b[33;2m (\u001b[0;33mcosmicqc\u001b[2m)\u001b[m\u001b[2m |\u001b[m 1 of 1\u001b[K\n",
      "\u001b[2m[\u001b[0;34m-        \u001b[0;2m] \u001b[0;2m\u001b[mAIAnalysis                    \u001b[2m |\u001b[m 0 of 1\u001b[K\n",
      "\u001b[7A\n",
      "\u001b[2mexecutor >  local (6)\u001b[m\u001b[K\n",
      "\u001b[2m[\u001b[0;34m94/168c04\u001b[0;2m] \u001b[0;2m\u001b[mProcessRepo\u001b[33;2m (\u001b[0;33m2\u001b[2m)\u001b[m               \u001b[2m |\u001b[m 1 of 2\u001b[K\n",
      "\u001b[2m[\u001b[0;34mba/ef0f38\u001b[0;2m] \u001b[0;2m\u001b[mRunAlmanack\u001b[33;2m (\u001b[0;33m1\u001b[2m)\u001b[m               \u001b[2m |\u001b[m 1 of 1\u001b[K\n",
      "\u001b[2m[\u001b[0;34m87/b715ae\u001b[0;2m] \u001b[0;2m\u001b[mTestExecutor\u001b[33;2m (\u001b[0;33m1\u001b[2m)\u001b[m              \u001b[2m |\u001b[m 1 of 1\u001b[K\n",
      "\u001b[2m[\u001b[0;34mfa/c6334f\u001b[0;2m] \u001b[0;2m\u001b[mAnalyzeJOSSCriteria\u001b[33;2m (\u001b[0;33mcosmicqc\u001b[2m)\u001b[m\u001b[2m |\u001b[m 1 of 1\u001b[K\n",
      "\u001b[2m[\u001b[0;34mee/764953\u001b[0;2m] \u001b[0;2m\u001b[mAIAnalysis\u001b[33;2m (\u001b[0;33m1\u001b[2m)\u001b[m                \u001b[2m |\u001b[m 0 of 1\u001b[K\n",
      "\u001b[7A\n",
      "\u001b[2mexecutor >  local (6)\u001b[m\u001b[K\n",
      "\u001b[2m[\u001b[0;34m94/168c04\u001b[0;2m] \u001b[0;2m\u001b[mProcessRepo\u001b[33;2m (\u001b[0;33m2\u001b[2m)\u001b[m               \u001b[2m |\u001b[m 1 of 2\u001b[K\n",
      "\u001b[2m[\u001b[0;34mba/ef0f38\u001b[0;2m] \u001b[0;2m\u001b[mRunAlmanack\u001b[33;2m (\u001b[0;33m1\u001b[2m)\u001b[m               \u001b[2m |\u001b[m 1 of 1\u001b[K\n",
      "\u001b[2m[\u001b[0;34m87/b715ae\u001b[0;2m] \u001b[0;2m\u001b[mTestExecutor\u001b[33;2m (\u001b[0;33m1\u001b[2m)\u001b[m              \u001b[2m |\u001b[m 1 of 1\u001b[K\n",
      "\u001b[2m[\u001b[0;34mfa/c6334f\u001b[0;2m] \u001b[0;2m\u001b[mAnalyzeJOSSCriteria\u001b[33;2m (\u001b[0;33mcosmicqc\u001b[2m)\u001b[m\u001b[2m |\u001b[m 1 of 1\u001b[K\n",
      "\u001b[2m[\u001b[0;34mee/764953\u001b[0;2m] \u001b[0;2m\u001b[mAIAnalysis\u001b[33;2m (\u001b[0;33m1\u001b[2m)\u001b[m                \u001b[2m |\u001b[m 1 of 1, ignored: 1\u001b[K\n",
      "\u001b[33m[ee/764953] NOTE: Missing output file(s) `cosmicqc_ai_analysis.html` expected by process `AIAnalysis (1)` -- Error is ignored\u001b[39m\u001b[K\n",
      "\u001b[8A\n",
      "\u001b[2mexecutor >  local (8)\u001b[m\u001b[K\n",
      "\u001b[2m[\u001b[0;34m48/ad65d2\u001b[0;2m] \u001b[0;2m\u001b[mProcessRepo\u001b[33;2m (\u001b[0;33m1\u001b[2m)\u001b[m               \u001b[2m |\u001b[m 2 of 2\u001b[32m ✔\u001b[m\u001b[K\n",
      "\u001b[2m[\u001b[0;34md3/baca6d\u001b[0;2m] \u001b[0;2m\u001b[mRunAlmanack\u001b[33;2m (\u001b[0;33m2\u001b[2m)\u001b[m               \u001b[2m |\u001b[m 1 of 2\u001b[K\n",
      "\u001b[2m[\u001b[0;34maa/5cf091\u001b[0;2m] \u001b[0;2m\u001b[mTestExecutor\u001b[33;2m (\u001b[0;33m2\u001b[2m)\u001b[m              \u001b[2m |\u001b[m 1 of 2\u001b[K\n",
      "\u001b[2m[\u001b[0;34mfa/c6334f\u001b[0;2m] \u001b[0;2m\u001b[mAnalyzeJOSSCriteria\u001b[33;2m (\u001b[0;33mcosmicqc\u001b[2m)\u001b[m\u001b[2m |\u001b[m 1 of 1\u001b[K\n",
      "\u001b[2m[\u001b[0;34mee/764953\u001b[0;2m] \u001b[0;2m\u001b[mAIAnalysis\u001b[33;2m (\u001b[0;33m1\u001b[2m)\u001b[m                \u001b[2m |\u001b[m 1 of 1, ignored: 1\u001b[K\n",
      "\u001b[33m[ee/764953] NOTE: Missing output file(s) `cosmicqc_ai_analysis.html` expected by process `AIAnalysis (1)` -- Error is ignored\u001b[39m\u001b[K\n",
      "\u001b[8A\n",
      "\u001b[2mexecutor >  local (8)\u001b[m\u001b[K\n",
      "\u001b[2m[\u001b[0;34m48/ad65d2\u001b[0;2m] \u001b[0;2m\u001b[mProcessRepo\u001b[33;2m (\u001b[0;33m1\u001b[2m)\u001b[m               \u001b[2m |\u001b[m 2 of 2\u001b[32m ✔\u001b[m\u001b[K\n",
      "\u001b[2m[\u001b[0;34md3/baca6d\u001b[0;2m] \u001b[0;2m\u001b[mRunAlmanack\u001b[33;2m (\u001b[0;33m2\u001b[2m)\u001b[m               \u001b[2m |\u001b[m 1 of 2\u001b[K\n",
      "\u001b[2m[\u001b[0;34maa/5cf091\u001b[0;2m] \u001b[0;2m\u001b[mTestExecutor\u001b[33;2m (\u001b[0;33m2\u001b[2m)\u001b[m              \u001b[2m |\u001b[m 1 of 2\u001b[K\n",
      "\u001b[2m[\u001b[0;34mfa/c6334f\u001b[0;2m] \u001b[0;2m\u001b[mAnalyzeJOSSCriteria\u001b[33;2m (\u001b[0;33mcosmicqc\u001b[2m)\u001b[m\u001b[2m |\u001b[m 1 of 1\u001b[K\n",
      "\u001b[2m[\u001b[0;34mee/764953\u001b[0;2m] \u001b[0;2m\u001b[mAIAnalysis\u001b[33;2m (\u001b[0;33m1\u001b[2m)\u001b[m                \u001b[2m |\u001b[m 1 of 1, ignored: 1\u001b[K\n",
      "\u001b[33m[ee/764953] NOTE: Missing output file(s) `cosmicqc_ai_analysis.html` expected by process `AIAnalysis (1)` -- Error is ignored\u001b[39m\u001b[K\n",
      "\u001b[8A\n",
      "\u001b[2mexecutor >  local (8)\u001b[m\u001b[K\n",
      "\u001b[2m[\u001b[0;34m48/ad65d2\u001b[0;2m] \u001b[0;2m\u001b[mProcessRepo\u001b[33;2m (\u001b[0;33m1\u001b[2m)\u001b[m               \u001b[2m |\u001b[m 2 of 2\u001b[32m ✔\u001b[m\u001b[K\n",
      "\u001b[2m[\u001b[0;34md3/baca6d\u001b[0;2m] \u001b[0;2m\u001b[mRunAlmanack\u001b[33;2m (\u001b[0;33m2\u001b[2m)\u001b[m               \u001b[2m |\u001b[m 1 of 2\u001b[K\n",
      "\u001b[2m[\u001b[0;34maa/5cf091\u001b[0;2m] \u001b[0;2m\u001b[mTestExecutor\u001b[33;2m (\u001b[0;33m2\u001b[2m)\u001b[m              \u001b[2m |\u001b[m 2 of 2\u001b[32m ✔\u001b[m\u001b[K\n",
      "\u001b[2m[\u001b[0;34mfa/c6334f\u001b[0;2m] \u001b[0;2m\u001b[mAnalyzeJOSSCriteria\u001b[33;2m (\u001b[0;33mcosmicqc\u001b[2m)\u001b[m\u001b[2m |\u001b[m 1 of 1\u001b[K\n",
      "\u001b[2m[\u001b[0;34mee/764953\u001b[0;2m] \u001b[0;2m\u001b[mAIAnalysis\u001b[33;2m (\u001b[0;33m1\u001b[2m)\u001b[m                \u001b[2m |\u001b[m 1 of 1, ignored: 1\u001b[K\n",
      "\u001b[33m[ee/764953] NOTE: Missing output file(s) `cosmicqc_ai_analysis.html` expected by process `AIAnalysis (1)` -- Error is ignored\u001b[39m\u001b[K\n",
      "\u001b[8A\n",
      "\u001b[2mexecutor >  local (9)\u001b[m\u001b[K\n",
      "\u001b[2m[\u001b[0;34m48/ad65d2\u001b[0;2m] \u001b[0;2m\u001b[mProcessRepo\u001b[33;2m (\u001b[0;33m1\u001b[2m)\u001b[m               \u001b[2m |\u001b[m 2 of 2\u001b[32m ✔\u001b[m\u001b[K\n",
      "\u001b[2m[\u001b[0;34md3/baca6d\u001b[0;2m] \u001b[0;2m\u001b[mRunAlmanack\u001b[33;2m (\u001b[0;33m2\u001b[2m)\u001b[m               \u001b[2m |\u001b[m 2 of 2\u001b[32m ✔\u001b[m\u001b[K\n",
      "\u001b[2m[\u001b[0;34maa/5cf091\u001b[0;2m] \u001b[0;2m\u001b[mTestExecutor\u001b[33;2m (\u001b[0;33m2\u001b[2m)\u001b[m              \u001b[2m |\u001b[m 2 of 2\u001b[32m ✔\u001b[m\u001b[K\n",
      "\u001b[2m[\u001b[0;34mbf/e78f14\u001b[0;2m] \u001b[0;2m\u001b[mAna…zeJOSSCriteria\u001b[33;2m (\u001b[0;33mCytoTable\u001b[2m)\u001b[m\u001b[2m |\u001b[m 1 of 2\u001b[K\n",
      "\u001b[2m[\u001b[0;34mee/764953\u001b[0;2m] \u001b[0;2m\u001b[mAIAnalysis\u001b[33;2m (\u001b[0;33m1\u001b[2m)\u001b[m                \u001b[2m |\u001b[m 1 of 1, ignored: 1\u001b[K\n",
      "\u001b[33m[ee/764953] NOTE: Missing output file(s) `cosmicqc_ai_analysis.html` expected by process `AIAnalysis (1)` -- Error is ignored\u001b[39m\u001b[K\n",
      "\u001b[8A\n",
      "\u001b[2mexecutor >  local (10)\u001b[m\u001b[K\n",
      "\u001b[2m[\u001b[0;34m48/ad65d2\u001b[0;2m] \u001b[0;2m\u001b[mProcessRepo\u001b[33;2m (\u001b[0;33m1\u001b[2m)\u001b[m               \u001b[2m |\u001b[m 2 of 2\u001b[32m ✔\u001b[m\u001b[K\n",
      "\u001b[2m[\u001b[0;34md3/baca6d\u001b[0;2m] \u001b[0;2m\u001b[mRunAlmanack\u001b[33;2m (\u001b[0;33m2\u001b[2m)\u001b[m               \u001b[2m |\u001b[m 2 of 2\u001b[32m ✔\u001b[m\u001b[K\n",
      "\u001b[2m[\u001b[0;34maa/5cf091\u001b[0;2m] \u001b[0;2m\u001b[mTestExecutor\u001b[33;2m (\u001b[0;33m2\u001b[2m)\u001b[m              \u001b[2m |\u001b[m 2 of 2\u001b[32m ✔\u001b[m\u001b[K\n",
      "\u001b[2m[\u001b[0;34mbf/e78f14\u001b[0;2m] \u001b[0;2m\u001b[mAna…zeJOSSCriteria\u001b[33;2m (\u001b[0;33mCytoTable\u001b[2m)\u001b[m\u001b[2m |\u001b[m 2 of 2\u001b[32m ✔\u001b[m\u001b[K\n",
      "\u001b[2m[\u001b[0;34m70/98cd47\u001b[0;2m] \u001b[0;2m\u001b[mAIAnalysis\u001b[33;2m (\u001b[0;33m2\u001b[2m)\u001b[m                \u001b[2m |\u001b[m 1 of 2, ignored: 1\u001b[K\n",
      "\u001b[33m[ee/764953] NOTE: Missing output file(s) `cosmicqc_ai_analysis.html` expected by process `AIAnalysis (1)` -- Error is ignored\u001b[39m\u001b[K\n",
      "\u001b[8A\n",
      "\u001b[2mexecutor >  local (10)\u001b[m\u001b[K\n",
      "\u001b[2m[\u001b[0;34m48/ad65d2\u001b[0;2m] \u001b[0;2m\u001b[mProcessRepo\u001b[33;2m (\u001b[0;33m1\u001b[2m)\u001b[m               \u001b[2m |\u001b[m 2 of 2\u001b[32m ✔\u001b[m\u001b[K\n",
      "\u001b[2m[\u001b[0;34md3/baca6d\u001b[0;2m] \u001b[0;2m\u001b[mRunAlmanack\u001b[33;2m (\u001b[0;33m2\u001b[2m)\u001b[m               \u001b[2m |\u001b[m 2 of 2\u001b[32m ✔\u001b[m\u001b[K\n",
      "\u001b[2m[\u001b[0;34maa/5cf091\u001b[0;2m] \u001b[0;2m\u001b[mTestExecutor\u001b[33;2m (\u001b[0;33m2\u001b[2m)\u001b[m              \u001b[2m |\u001b[m 2 of 2\u001b[32m ✔\u001b[m\u001b[K\n",
      "\u001b[2m[\u001b[0;34mbf/e78f14\u001b[0;2m] \u001b[0;2m\u001b[mAna…zeJOSSCriteria\u001b[33;2m (\u001b[0;33mCytoTable\u001b[2m)\u001b[m\u001b[2m |\u001b[m 2 of 2\u001b[32m ✔\u001b[m\u001b[K\n",
      "\u001b[2m[\u001b[0;34m70/98cd47\u001b[0;2m] \u001b[0;2m\u001b[mAIAnalysis\u001b[33;2m (\u001b[0;33m2\u001b[2m)\u001b[m                \u001b[2m |\u001b[m 2 of 2, ignored: 2\u001b[32m ✔\u001b[m\u001b[K\n",
      "\u001b[33m[ee/764953] NOTE: Missing output file(s) `cosmicqc_ai_analysis.html` expected by process `AIAnalysis (1)` -- Error is ignored\u001b[39m\u001b[K\n",
      "\u001b[33m[70/98cd47] NOTE: Missing output file(s) `CytoTable_ai_analysis.html` expected by process `AIAnalysis (2)` -- Error is ignored\u001b[39m\u001b[K\n",
      "\u001b[9A\n",
      "\u001b[2mexecutor >  local (10)\u001b[m\u001b[K\n",
      "\u001b[2m[\u001b[0;34m48/ad65d2\u001b[0;2m] \u001b[0;2m\u001b[mProcessRepo\u001b[33;2m (\u001b[0;33m1\u001b[2m)\u001b[m               \u001b[2m |\u001b[m 2 of 2\u001b[32m ✔\u001b[m\u001b[K\n",
      "\u001b[2m[\u001b[0;34md3/baca6d\u001b[0;2m] \u001b[0;2m\u001b[mRunAlmanack\u001b[33;2m (\u001b[0;33m2\u001b[2m)\u001b[m               \u001b[2m |\u001b[m 2 of 2\u001b[32m ✔\u001b[m\u001b[K\n",
      "\u001b[2m[\u001b[0;34maa/5cf091\u001b[0;2m] \u001b[0;2m\u001b[mTestExecutor\u001b[33;2m (\u001b[0;33m2\u001b[2m)\u001b[m              \u001b[2m |\u001b[m 2 of 2\u001b[32m ✔\u001b[m\u001b[K\n",
      "\u001b[2m[\u001b[0;34mbf/e78f14\u001b[0;2m] \u001b[0;2m\u001b[mAna…zeJOSSCriteria\u001b[33;2m (\u001b[0;33mCytoTable\u001b[2m)\u001b[m\u001b[2m |\u001b[m 2 of 2\u001b[32m ✔\u001b[m\u001b[K\n",
      "\u001b[2m[\u001b[0;34m70/98cd47\u001b[0;2m] \u001b[0;2m\u001b[mAIAnalysis\u001b[33;2m (\u001b[0;33m2\u001b[2m)\u001b[m                \u001b[2m |\u001b[m 2 of 2, ignored: 2\u001b[32m ✔\u001b[m\u001b[K\n",
      "\u001b[33m[ee/764953] NOTE: Missing output file(s) `cosmicqc_ai_analysis.html` expected by process `AIAnalysis (1)` -- Error is ignored\u001b[39m\u001b[K\n",
      "\u001b[33m[70/98cd47] NOTE: Missing output file(s) `CytoTable_ai_analysis.html` expected by process `AIAnalysis (2)` -- Error is ignored\u001b[39m\u001b[K\n",
      "\n"
     ]
    }
   ],
   "source": [
    "!nextflow run main.nf --sample_sheet specific-example.csv --synapse_agent_id LOWYSX3QSQ"
   ]
  },
  {
   "cell_type": "code",
   "execution_count": 21,
   "id": "66d2b790-69f7-4335-abe4-7b4fc6f8b59f",
   "metadata": {},
   "outputs": [
    {
     "name": "stdout",
     "output_type": "stream",
     "text": [
      "\u001b[90m┌\u001b[0m\u001b[90m─\u001b[0m\u001b[90m─\u001b[0m\u001b[90m─\u001b[0m\u001b[90m─\u001b[0m\u001b[90m─\u001b[0m\u001b[90m─\u001b[0m\u001b[90m─\u001b[0m\u001b[90m─\u001b[0m\u001b[90m─\u001b[0m\u001b[90m─\u001b[0m\u001b[90m─\u001b[0m\u001b[90m┬\u001b[0m\u001b[90m─\u001b[0m\u001b[90m─\u001b[0m\u001b[90m─\u001b[0m\u001b[90m─\u001b[0m\u001b[90m─\u001b[0m\u001b[90m─\u001b[0m\u001b[90m─\u001b[0m\u001b[90m─\u001b[0m\u001b[90m─\u001b[0m\u001b[90m┬\u001b[0m\u001b[90m─\u001b[0m\u001b[90m─\u001b[0m\u001b[90m─\u001b[0m\u001b[90m─\u001b[0m\u001b[90m─\u001b[0m\u001b[90m─\u001b[0m\u001b[90m─\u001b[0m\u001b[90m─\u001b[0m\u001b[90m─\u001b[0m\u001b[90m┬\u001b[0m\u001b[90m─\u001b[0m\u001b[90m─\u001b[0m\u001b[90m─\u001b[0m\u001b[90m─\u001b[0m\u001b[90m─\u001b[0m\u001b[90m─\u001b[0m\u001b[90m─\u001b[0m\u001b[90m─\u001b[0m\u001b[90m─\u001b[0m\u001b[90m┬\u001b[0m\u001b[90m─\u001b[0m\u001b[90m─\u001b[0m\u001b[90m─\u001b[0m\u001b[90m─\u001b[0m\u001b[90m─\u001b[0m\u001b[90m─\u001b[0m\u001b[90m─\u001b[0m\u001b[90m─\u001b[0m\u001b[90m─\u001b[0m\u001b[90m┐\u001b[0m\u001b[90m\n",
      "\u001b[0m\u001b[90m│\u001b[0m\u001b[90m  \u001b[0mcolumn0\u001b[90m  \u001b[0m\u001b[90m│\u001b[0m\u001b[90m \u001b[0mcolumn1\u001b[90m \u001b[0m\u001b[90m│\u001b[0m\u001b[90m \u001b[0mcolumn2\u001b[90m \u001b[0m\u001b[90m│\u001b[0m\u001b[90m \u001b[0mcolumn3\u001b[90m \u001b[0m\u001b[90m│\u001b[0m\u001b[90m \u001b[0mcolumn4\u001b[90m \u001b[0m\u001b[90m│\u001b[0m\u001b[90m\n",
      "\u001b[0m\u001b[90m│\u001b[0m\u001b[90m  \u001b[0mvarchar\u001b[90m  \u001b[0m\u001b[90m│\u001b[0m\u001b[90m \u001b[0mvarchar\u001b[90m \u001b[0m\u001b[90m│\u001b[0m\u001b[90m \u001b[0mvarchar\u001b[90m \u001b[0m\u001b[90m│\u001b[0m\u001b[90m \u001b[0mvarchar\u001b[90m \u001b[0m\u001b[90m│\u001b[0m\u001b[90m \u001b[0mvarchar\u001b[90m \u001b[0m\u001b[90m│\u001b[0m\u001b[90m\n",
      "\u001b[0m\u001b[90m├\u001b[0m\u001b[90m─\u001b[0m\u001b[90m─\u001b[0m\u001b[90m─\u001b[0m\u001b[90m─\u001b[0m\u001b[90m─\u001b[0m\u001b[90m─\u001b[0m\u001b[90m─\u001b[0m\u001b[90m─\u001b[0m\u001b[90m─\u001b[0m\u001b[90m─\u001b[0m\u001b[90m─\u001b[0m\u001b[90m┼\u001b[0m\u001b[90m─\u001b[0m\u001b[90m─\u001b[0m\u001b[90m─\u001b[0m\u001b[90m─\u001b[0m\u001b[90m─\u001b[0m\u001b[90m─\u001b[0m\u001b[90m─\u001b[0m\u001b[90m─\u001b[0m\u001b[90m─\u001b[0m\u001b[90m┼\u001b[0m\u001b[90m─\u001b[0m\u001b[90m─\u001b[0m\u001b[90m─\u001b[0m\u001b[90m─\u001b[0m\u001b[90m─\u001b[0m\u001b[90m─\u001b[0m\u001b[90m─\u001b[0m\u001b[90m─\u001b[0m\u001b[90m─\u001b[0m\u001b[90m┼\u001b[0m\u001b[90m─\u001b[0m\u001b[90m─\u001b[0m\u001b[90m─\u001b[0m\u001b[90m─\u001b[0m\u001b[90m─\u001b[0m\u001b[90m─\u001b[0m\u001b[90m─\u001b[0m\u001b[90m─\u001b[0m\u001b[90m─\u001b[0m\u001b[90m┼\u001b[0m\u001b[90m─\u001b[0m\u001b[90m─\u001b[0m\u001b[90m─\u001b[0m\u001b[90m─\u001b[0m\u001b[90m─\u001b[0m\u001b[90m─\u001b[0m\u001b[90m─\u001b[0m\u001b[90m─\u001b[0m\u001b[90m─\u001b[0m\u001b[90m┤\u001b[0m\u001b[90m\n",
      "\u001b[0m\u001b[90m│\u001b[0m\u001b[90m \u001b[0mCytoTable\u001b[90m \u001b[0m\u001b[90m│\u001b[0m\u001b[90m \u001b[0mPASS\u001b[90m    \u001b[0m\u001b[90m│\u001b[0m\u001b[90m \u001b[0mPASS\u001b[90m    \u001b[0m\u001b[90m│\u001b[0m\u001b[90m \u001b[0mPASS\u001b[90m    \u001b[0m\u001b[90m│\u001b[0m\u001b[90m \u001b[0mPASS\u001b[90m    \u001b[0m\u001b[90m│\u001b[0m\u001b[90m\n",
      "\u001b[0m\u001b[90m│\u001b[0m\u001b[90m \u001b[0mPOT\u001b[90m       \u001b[0m\u001b[90m│\u001b[0m\u001b[90m \u001b[0mPASS\u001b[90m    \u001b[0m\u001b[90m│\u001b[0m\u001b[90m \u001b[0mPASS\u001b[90m    \u001b[0m\u001b[90m│\u001b[0m\u001b[90m \u001b[0mPASS\u001b[90m    \u001b[0m\u001b[90m│\u001b[0m\u001b[90m \u001b[0mPASS\u001b[90m    \u001b[0m\u001b[90m│\u001b[0m\u001b[90m\n",
      "\u001b[0m\u001b[90m│\u001b[0m\u001b[90m \u001b[0mTARGet\u001b[90m    \u001b[0m\u001b[90m│\u001b[0m\u001b[90m \u001b[0mPASS\u001b[90m    \u001b[0m\u001b[90m│\u001b[0m\u001b[90m \u001b[0mFAIL\u001b[90m    \u001b[0m\u001b[90m│\u001b[0m\u001b[90m \u001b[0mFAIL\u001b[90m    \u001b[0m\u001b[90m│\u001b[0m\u001b[90m \u001b[0mPASS\u001b[90m    \u001b[0m\u001b[90m│\u001b[0m\u001b[90m\n",
      "\u001b[0m\u001b[90m│\u001b[0m\u001b[90m \u001b[0mcosmicqc\u001b[90m  \u001b[0m\u001b[90m│\u001b[0m\u001b[90m \u001b[0mPASS\u001b[90m    \u001b[0m\u001b[90m│\u001b[0m\u001b[90m \u001b[0mPASS\u001b[90m    \u001b[0m\u001b[90m│\u001b[0m\u001b[90m \u001b[0mPASS\u001b[90m    \u001b[0m\u001b[90m│\u001b[0m\u001b[90m \u001b[0mPASS\u001b[90m    \u001b[0m\u001b[90m│\u001b[0m\u001b[90m\n",
      "\u001b[0m\u001b[90m└\u001b[0m\u001b[90m─\u001b[0m\u001b[90m─\u001b[0m\u001b[90m─\u001b[0m\u001b[90m─\u001b[0m\u001b[90m─\u001b[0m\u001b[90m─\u001b[0m\u001b[90m─\u001b[0m\u001b[90m─\u001b[0m\u001b[90m─\u001b[0m\u001b[90m─\u001b[0m\u001b[90m─\u001b[0m\u001b[90m┴\u001b[0m\u001b[90m─\u001b[0m\u001b[90m─\u001b[0m\u001b[90m─\u001b[0m\u001b[90m─\u001b[0m\u001b[90m─\u001b[0m\u001b[90m─\u001b[0m\u001b[90m─\u001b[0m\u001b[90m─\u001b[0m\u001b[90m─\u001b[0m\u001b[90m┴\u001b[0m\u001b[90m─\u001b[0m\u001b[90m─\u001b[0m\u001b[90m─\u001b[0m\u001b[90m─\u001b[0m\u001b[90m─\u001b[0m\u001b[90m─\u001b[0m\u001b[90m─\u001b[0m\u001b[90m─\u001b[0m\u001b[90m─\u001b[0m\u001b[90m┴\u001b[0m\u001b[90m─\u001b[0m\u001b[90m─\u001b[0m\u001b[90m─\u001b[0m\u001b[90m─\u001b[0m\u001b[90m─\u001b[0m\u001b[90m─\u001b[0m\u001b[90m─\u001b[0m\u001b[90m─\u001b[0m\u001b[90m─\u001b[0m\u001b[90m┴\u001b[0m\u001b[90m─\u001b[0m\u001b[90m─\u001b[0m\u001b[90m─\u001b[0m\u001b[90m─\u001b[0m\u001b[90m─\u001b[0m\u001b[90m─\u001b[0m\u001b[90m─\u001b[0m\u001b[90m─\u001b[0m\u001b[90m─\u001b[0m\u001b[90m┘\u001b[0m\u001b[90m\n",
      "\u001b[0m"
     ]
    }
   ],
   "source": [
    "!duckdb :memory: \"SELECT * from read_csv_auto('results/*.txt', header = false)\""
   ]
  }
 ],
 "metadata": {
  "kernelspec": {
   "display_name": "Python 3 (ipykernel)",
   "language": "python",
   "name": "python3"
  },
  "language_info": {
   "codemirror_mode": {
    "name": "ipython",
    "version": 3
   },
   "file_extension": ".py",
   "mimetype": "text/x-python",
   "name": "python",
   "nbconvert_exporter": "python",
   "pygments_lexer": "ipython3",
   "version": "3.13.5"
  }
 },
 "nbformat": 4,
 "nbformat_minor": 5
}
